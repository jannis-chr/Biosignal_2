{
 "cells": [
  {
   "cell_type": "markdown",
   "metadata": {},
   "source": [
    "1. Detektion der R-Zacke und Berechnung der Herzfrequenz\n"
   ]
  },
  {
   "cell_type": "code",
   "execution_count": 2,
   "metadata": {},
   "outputs": [],
   "source": [
    "import pandas as pd\n",
    "import matplotlib.pyplot as plt\n",
    "import numpy as np\n",
    "import scipy.signal as sps\n",
    "import Lab2Functions as ekg\n"
   ]
  },
  {
   "cell_type": "code",
   "execution_count": 5,
   "metadata": {},
   "outputs": [],
   "source": [
    "df = pd.read_csv('Daten/Lab2_Aufgabe_4_Markus.csv', sep = ';')\n"
   ]
  },
  {
   "cell_type": "code",
   "execution_count": 7,
   "metadata": {},
   "outputs": [],
   "source": [
    "\"\"\"Step 1: This function finds the peaks of the derivative of the ECG signal\n",
    "Input: ecg signal, time\n",
    "Output: ecg derivative, position of peaks of d_ecg\n",
    "\"\"\"\n",
    "\n",
    "def decg_peaks(ecg, time):\n",
    "    \"\"\"Step 1: Find the peaks of the derivative of the ECG signal\"\"\"\n",
    "    d_ecg = np.diff(ecg) #find derivative of ecg signal\n",
    "    peaks_d_ecg,_ = sps.find_peaks(d_ecg) #peaks of d_ecg\n",
    "     \n",
    "    # plot step 1\n",
    "    plt.figure()\n",
    "    plt.plot(time[0:len(time)-1], d_ecg, color = 'red')\n",
    "    plt.plot(time[peaks_d_ecg], d_ecg[peaks_d_ecg], \"x\", color = 'g')\n",
    "    plt.xlabel('Time [s]')\n",
    "    plt.ylabel('Derivative of activation []')\n",
    "    plt.title('R-wave peaks step 1: peaks of derivative of ECG')\n",
    "    plt.show()\n",
    "    return d_ecg, peaks_d_ecg\n",
    "    \n",
    "\"\"\"Step 2: This function filters out all peaks that are under the height threshold\n",
    "    and not over a minimum distance from each other. \\\n",
    "     Input: d_ecg signal, position of peaks from decg_peaks(), time, \n",
    "         height threshold percentage in decimal, distance threshold in decimal\n",
    "     Output: Rwave peaks of d_ecg\"\"\"    \n",
    "def d_ecg_peaks(d_ecg, peaks_d_ecg, time, heightper, distanceper):\n",
    "    meanpeaks_d_ecg = np.mean(d_ecg[peaks_d_ecg]) # find the mean of the peaks\n",
    "    max_d_ecg = np.max(d_ecg) #find max of the ecg signal\n",
    "    threshold = np.mean([meanpeaks_d_ecg,max_d_ecg])*heightper # find mean of meanpeakecg and maxecg - this will be a good threshold for finding peaks. it filters out all the peaks from the bottom\n",
    "    newpeaks_d_ecg,_ = sps.find_peaks(d_ecg, height = threshold) # find the new peaks\n",
    "    newpeaks_d_ecg_t = time[newpeaks_d_ecg]\n",
    "    newpeaks_d_ecg_t = newpeaks_d_ecg_t.reset_index(drop = True)\n",
    "    meandistance = np.mean(np.diff(newpeaks_d_ecg))\n",
    "    Rwave_peaks_d_ecg,_ = sps.find_peaks(d_ecg,height = threshold, distance = meandistance*distanceper) # \n",
    "    \n",
    "      #plot step 2\n",
    "    plt.figure()  \n",
    "    plt.plot(time[0:len(time)-1], d_ecg, color = 'red') \n",
    "    plt.plot(time[Rwave_peaks_d_ecg], d_ecg[Rwave_peaks_d_ecg], \"x\", color = 'g')\n",
    "    #plt.axhline(meanpeaks_d_ecg, color = 'b')\n",
    "    #plt.axhline(max_d_ecg, color = 'b')\n",
    "    thres = plt.axhline(threshold, color = 'black', label = 'threshold')\n",
    "    plt.title('R-wave peaks step 2: d_ECG peaks')\n",
    "    plt.ylabel('Derivative of activation []')\n",
    "    plt.xlabel('Time [s]')\n",
    "    plt.legend()\n",
    "    plt.show()\n",
    "    return Rwave_peaks_d_ecg\n",
    "    \n",
    "\n",
    "    \n",
    "    \"\"\"Step 3: this function finds the Rwave peaks at the original ecg signal\n",
    "    with the before defined peaks of the d_ecg signal\n",
    "    Input: ecg signal,derivative of ecg signal,\n",
    "        Rwave peaks of d_ecg from height_distance_threshold_peaks\n",
    "    Output: Rwave peaks\"\"\"\n",
    "def Rwave_peaks(ecg, d_ecg, Rwave_peaks_d_ecg, time):   \n",
    "    Rwave = np.empty([len(Rwave_peaks_d_ecg)-1]) \n",
    "    for i in range(0, len(Rwave)): # for all peaks\n",
    "        ecgrange = ecg[Rwave_peaks_d_ecg[i]:Rwave_peaks_d_ecg[i+1]] # create array that contains of the ecg within the d_ecg_peaks\n",
    "        percentage = np.round(len(ecgrange)*0.2)\n",
    "        maxvalue = np.array(list(np.where(ecgrange == np.max(ecgrange[0:int(percentage)])))) # find the index of the max value of ecg\n",
    "        Rwave[i] = Rwave_peaks_d_ecg[i] + maxvalue[0,0]  # save this index         \n",
    "    \n",
    "    Rwave = Rwave.astype(np.int64)\n",
    "    Rwave_t = time[Rwave]\n",
    "    Rwave_t = Rwave_t.reset_index(drop = True)\n",
    "    Rwave_t = Rwave_t.drop(columns = ['index'])\n",
    "    \n",
    "    # plot step 3\n",
    "    fig, ax1 = plt.subplots()\n",
    "    ax1.plot(time[0:len(time)-1], d_ecg, color = 'r', label = 'Derivative of ECG')\n",
    "    ax1.set_ylabel('Activation Derivative []')\n",
    "    plt.xlabel('Time [s]') \n",
    "    plt.title('R-wave peaks step 3: R-wave peaks')\n",
    "    ax2 = ax1.twinx()\n",
    "    ax2.plot(time, ecg, color = 'b', label = 'ECG')\n",
    "    ax2.plot(time[Rwave], ecg[Rwave], \"x\", color = 'g')\n",
    "    ax2.set_ylabel('Activation []')\n",
    "    ax1.legend()\n",
    "    ax2.legend()\n",
    "    plt.show()\n",
    "    return Rwave_t"
   ]
  },
  {
   "cell_type": "code",
   "execution_count": null,
   "metadata": {},
   "outputs": [],
   "source": []
  }
 ],
 "metadata": {
  "kernelspec": {
   "display_name": "Python 3",
   "language": "python",
   "name": "python3"
  },
  "language_info": {
   "codemirror_mode": {
    "name": "ipython",
    "version": 3
   },
   "file_extension": ".py",
   "mimetype": "text/x-python",
   "name": "python",
   "nbconvert_exporter": "python",
   "pygments_lexer": "ipython3",
   "version": "3.12.2"
  }
 },
 "nbformat": 4,
 "nbformat_minor": 2
}
